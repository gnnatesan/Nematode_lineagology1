{
 "cells": [
  {
   "cell_type": "code",
   "execution_count": 431,
   "id": "c0524977",
   "metadata": {},
   "outputs": [],
   "source": [
    "import numpy as np\n",
    "import matplotlib.pyplot as plt\n",
    "import pydot\n",
    "import pickle\n",
    "import pathlib\n",
    "import os\n",
    "from scipy import stats\n",
    "import random\n",
    "from sklearn.metrics import r2_score\n",
    "plt.rcParams['figure.figsize'] = [10, 5]\n",
    "#import unicode\n",
    "\n",
    "from scipy.optimize import curve_fit\n",
    "import re\n",
    "from sklearn.cluster import AgglomerativeClustering\n",
    "import pandas as pd\n",
    "import statistics\n",
    "from scipy.cluster.hierarchy import dendrogram, linkage, fcluster\n",
    "\n",
    "from sklearn.neighbors import NearestNeighbors\n",
    "from scipy.spatial import distance\n",
    "from scipy.stats import norm"
   ]
  },
  {
   "cell_type": "code",
   "execution_count": 432,
   "id": "02c0090c",
   "metadata": {},
   "outputs": [
    {
     "name": "stdout",
     "output_type": "stream",
     "text": [
      "1322 1322\n",
      "30 30\n"
     ]
    }
   ],
   "source": [
    "#directory = str(pathlib.Path(__file__).parent.resolve())\n",
    "#script_path = str(pathlib.Path(__file__).parent.resolve())\n",
    "directory = os.getcwd()\n",
    "script_path = os.getcwd()\n",
    "nameset,dictset = [],[]\n",
    "refnameset,refdictset = [],[]\n",
    "\n",
    "refsortset = []\n",
    "sortset = []\n",
    "\n",
    "\n",
    "for filename in os.listdir(directory):\n",
    "    if filename.endswith(\".txt\") and '._' not in filename:\n",
    "        if 'REF' not in filename:\n",
    "            impath = os.path.join(directory, filename)\n",
    "            nameset.append(impath)\n",
    "            this_set = dict()\n",
    "            with (open(impath, encoding = 'utf8', errors = 'ignore')) as f: #populate dict from text file\n",
    "                for n in f:\n",
    "                    pog = n.split('\\t')\n",
    "                    this_set[pog[0]] = pog[-1].count(',')\n",
    "                f.close()\n",
    "            try:\n",
    "                this_set.pop('cell_name')\n",
    "                this_set.pop('AB')\n",
    "            except: pass\n",
    "            dictset.append(this_set)\n",
    "            sortset.append((impath, this_set))\n",
    "        else:\n",
    "            impath = os.path.join(directory, filename)\n",
    "            refnameset.append(impath)\n",
    "            this_set = dict()\n",
    "            with (open(impath, encoding = 'utf8', errors = 'ignore')) as f: #populate dict from text file\n",
    "                for n in f:\n",
    "                    pog = n.split('\\t')\n",
    "                    this_set[pog[0]] = pog[-1].count(',')\n",
    "                f.close()\n",
    "            try:\n",
    "                this_set.pop('cell_name')\n",
    "                this_set.pop('AB')\n",
    "            except: pass\n",
    "            refdictset.append(this_set)\n",
    "            refsortset.append((impath, this_set))\n",
    "            \n",
    "    \n",
    "print(len(dictset),len(nameset))\n",
    "print(len(refdictset),len(refnameset))\n",
    "truncator = len(nameset)\n",
    "\n",
    "nameset,dictset = [],[]\n",
    "for n in sorted(sortset):\n",
    "    nameset.append(n[0]);dictset.append(n[1])\n",
    "\n",
    "refnameset,refdictset = [],[]\n",
    "for n in sorted(refsortset):\n",
    "    refnameset.append(n[0]);refdictset.append(n[1])"
   ]
  },
  {
   "cell_type": "code",
   "execution_count": 433,
   "id": "fde37e4c",
   "metadata": {},
   "outputs": [],
   "source": [
    "def remove_dangling_children(oldshi):\n",
    "    poor = list(oldshi);dishi = dict()\n",
    "    for n in range(1,len(poor)-1):\n",
    "        if (len(poor[n]) == len(poor[n+1]) or len(poor[n]) == len(poor[n-1])) == False: dishi[poor[n]] = oldshi[poor[n]]\n",
    "    return dishi\n",
    "\n",
    "#'''\n",
    "nameset,dictset = [],[]\n",
    "for n in sorted(sortset):\n",
    "    nameset.append(n[0]);dictset.append(remove_dangling_children(n[1]))\n",
    "    \n",
    "refnameset,refdictset = [],[]\n",
    "for n in sorted(refsortset):\n",
    "    refnameset.append(n[0]);refdictset.append(remove_dangling_children(n[1]))\n",
    "#'''"
   ]
  },
  {
   "cell_type": "code",
   "execution_count": 434,
   "id": "7d53e177",
   "metadata": {},
   "outputs": [],
   "source": [
    "#part 1 of common node\n",
    "refnodelist = set(refdictset[0])\n",
    "for n in refdictset:\n",
    "    refnodelist = set(n).intersection(refnodelist)"
   ]
  },
  {
   "cell_type": "code",
   "execution_count": 435,
   "id": "e49ae2a9",
   "metadata": {},
   "outputs": [],
   "source": [
    "#part 2 of common node\n",
    "newdictset = []\n",
    "for n in refdictset:\n",
    "    newdict = dict()\n",
    "    for i in refnodelist:\n",
    "        newdict[i] = n[i]\n",
    "    #print(set(newdict).issubset(set(n)))\n",
    "    #print(len(newdict))\n",
    "    newdictset.append(newdict)\n",
    "\n",
    "#print(set(newdict).issubset(set(n)))\n",
    "refdictset = newdictset"
   ]
  },
  {
   "cell_type": "code",
   "execution_count": 436,
   "id": "facf48ea",
   "metadata": {},
   "outputs": [],
   "source": [
    "def scramble(dict_list):\n",
    "    dict_return = []\n",
    "    for element in dict_list:\n",
    "        valuescramble = list(element.values())\n",
    "        random.shuffle(valuescramble)\n",
    "        keyscramble = list(element)\n",
    "        random.shuffle(keyscramble)\n",
    "        new_element = dict()\n",
    "        for n in range(0,len(keyscramble)):\n",
    "            new_element[keyscramble[n]] = valuescramble[n]\n",
    "        dict_return.append(new_element)\n",
    "    return dict_return\n",
    "def globalize(dictn):\n",
    "    globaldictset = []\n",
    "    for i in dictn:\n",
    "        tags = sorted(list(i));dip = dict()\n",
    "        for n in tags:\n",
    "            if n[0:-1] in i:\n",
    "                dip[n] = i[n] + dip[n[:-1]]\n",
    "            else: dip[n] = i[n]    \n",
    "        globaldictset.append(dip)\n",
    "    return globaldictset"
   ]
  },
  {
   "cell_type": "code",
   "execution_count": 437,
   "id": "38fe35e5",
   "metadata": {},
   "outputs": [],
   "source": [
    "#scrambledictset = scramble(dictset)\n",
    "globaldictset = globalize(dictset)\n",
    "#globalscrambledictset = globalize(scrambledictset)\n",
    "\n",
    "#refscrambledictset = scramble(refdictset)\n",
    "refglobaldictset = globalize(refdictset)\n",
    "#refglobalscrambledictset = globalize(refscrambledictset)"
   ]
  },
  {
   "cell_type": "code",
   "execution_count": 438,
   "id": "14d97e01",
   "metadata": {},
   "outputs": [
    {
     "data": {
      "text/plain": [
       "(1322, 1367)"
      ]
     },
     "execution_count": 438,
     "metadata": {},
     "output_type": "execute_result"
    }
   ],
   "source": [
    "qf = pd.read_csv('1368-embryos.csv', header=None).iloc[0]\n",
    "df = pd.read_csv('1368-embryos.csv')\n",
    "rdf = df.sort_values(by = 'embryo-ID')\n",
    "cuttags = ['ABa','ABp','C','D','E','MS','P']\n",
    "rearranger = [0,1,4,5,3,2,6]\n",
    "\n",
    "match_links = [];match_links2 = []\n",
    "\n",
    "findit = 0;notin = 0\n",
    "\n",
    "o = 0\n",
    "for n in range(0,df.shape[0]):\n",
    "    #print(rdf.iloc[n][1] in nameset[o])\n",
    "    if rdf.iloc[n][1] in nameset[o]:\n",
    "        #match_links.append((o,n)) #, o in nameset, #n in dataframe\n",
    "        match_links.append(n) #index is o in nameset, list value is n in dataframe\n",
    "        tagref = 0\n",
    "        for nm in list(globaldictset[o]):\n",
    "            if cuttags[tagref] not in nm:\n",
    "                try:\n",
    "                    tagref = tagref + 1\n",
    "                    if tagref > 6:\n",
    "                        break\n",
    "                except:\n",
    "                    break\n",
    "            #findit = findit + (globaldictset[o][nm] >= rdf.iloc[n][rearranger[tagref]+5])\n",
    "            if (globaldictset[o][nm] >= rdf.iloc[n][rearranger[tagref]+5]): \n",
    "                #print(nameset[o].split('/')[-1])\n",
    "                #print(rdf.iloc[n][1])\n",
    "                #print('tag',o,'embryo',n,nm,globaldictset[o][nm],rdf.iloc[n][rearranger[tagref]+5])\n",
    "                del dictset[o][nm]\n",
    "        o = o + 1\n",
    "    else:\n",
    "        pass\n",
    "        match_links2.append((o,-1))\n",
    "        #match_links2.append(-1)\n",
    "o,n"
   ]
  },
  {
   "cell_type": "code",
   "execution_count": 410,
   "id": "189561f7",
   "metadata": {},
   "outputs": [],
   "source": [
    "def plot_2_examples(colormaps,imp): #heatmap matrix plotting function\n",
    "    data = imp;n = len(colormaps)\n",
    "    fig, axs = plt.subplots(1, n, figsize=(n, n),\n",
    "                            constrained_layout=False, squeeze=False)\n",
    "    for [ax, cmap] in zip(axs.flat, colormaps):\n",
    "        psm = ax.pcolormesh(data, cmap=cmap, rasterized=True, vmin=(int(10*np.amin(imp))/10.0), vmax=(int(10*np.amax(imp))/10.0))\n",
    "        fig.colorbar(psm, ax=ax)\n",
    "    plt.title('Distance between times in WT C. Elegans')\n",
    "    #plt.figure(figsize = (15,8))\n",
    "    plt.gcf().set_size_inches(35, 25)\n",
    "    plt.show()"
   ]
  },
  {
   "cell_type": "code",
   "execution_count": 622,
   "id": "c62dfcb6",
   "metadata": {},
   "outputs": [],
   "source": [
    "def variable_nodes(dict1,root_node):\n",
    "    tip = dict()\n",
    "    for n in [x for x in dict1 if re.search(root_node, x)]: tip[n] = dict1[n]\n",
    "    return tip\n",
    "\n",
    "def tree_edit_distance(dict1,dict2): return (len((set(dict1).union(set(dict2))))-len((set(dict1).intersection(set(dict2)))))\n",
    "\n",
    "def branch_distance(dict1,dict2): #issa metric from deeds\n",
    "    branch_dist = 0\n",
    "    for n in list(set(dict1).intersection(set(dict2))):\n",
    "        branch_dist = branch_dist + (dict1[n]-dict2[n])**2\n",
    "    return (np.sqrt(branch_dist))\n",
    "\n",
    "def jaccard_distance(dict1,dict2):\n",
    "    onion = len(set(dict1).union(set(dict2)))\n",
    "    #entry = len(set(dict1).intersection(set(dict2)))\n",
    "    #print((onion - len(set(dict1).intersection(set(dict2)))) / onion)\n",
    "    return ((onion - len(set(dict1).intersection(set(dict2)))) / onion)\n",
    "    #return (len((set(dict1).union(set(dict2))))-len((set(dict1).intersection(set(dict2)))))\n",
    "    \n",
    "def node_comparison_trimmer(dict1,root_node):\n",
    "    tip = dict()\n",
    "    if root_node == 'EMS':\n",
    "        root_node = 'Q'\n",
    "        for n in [x for x in dict1 if re.search('E', x) or re.search('MS', x)]:\n",
    "            #print(n)\n",
    "            if n[0] == 'E':\n",
    "                #print('Qp'+n[1:],dict1[n])\n",
    "                dict1['Qp'+n[1:]] = dict1[n]\n",
    "            else:\n",
    "                #print('Qa'+n[2:],dict1[n])\n",
    "                dict1['Qa'+n[2:]] = dict1[n]\n",
    "    for n in [x for x in dict1 if re.search(root_node, x)]: \n",
    "        #print(n)\n",
    "        m = n.replace('r', \"p\").replace('v', \"p\")\n",
    "        m = m.replace('d', \"a\").replace('l', \"a\")\n",
    "        m = m[len(root_node):]\n",
    "        #print(m,'\\n')\n",
    "        #trope = n[len(root_node):]\n",
    "        #trope = trope.replace('d', \"a\").replace('l', \"a\")\n",
    "        #trope = trope.replace('v', \"p\").replace('r', \"p\")\n",
    "        tip[m] = dict1[n]\n",
    "    return tip"
   ]
  },
  {
   "cell_type": "code",
   "execution_count": null,
   "id": "d164955d",
   "metadata": {},
   "outputs": [],
   "source": []
  },
  {
   "cell_type": "code",
   "execution_count": 624,
   "id": "c9cdfff0",
   "metadata": {},
   "outputs": [],
   "source": [
    "fulldictset = refdictset + dictset;fullnameset = refnameset + nameset"
   ]
  },
  {
   "cell_type": "code",
   "execution_count": 625,
   "id": "4549a183",
   "metadata": {},
   "outputs": [],
   "source": [
    "RNAi_size_assignments = dict()\n",
    "RNAi_name_array = []\n",
    "for n in range(0,len(nameset)):\n",
    "    pad = nameset[n].split('/')[-1][:-14]\n",
    "    #print(pad,n)\n",
    "    RNAi_name_array.append(pad)\n",
    "    try:\n",
    "        z = RNAi_size_assignments[pad]\n",
    "        z.append(n)\n",
    "    except:\n",
    "        z = list()\n",
    "        z.append(n)\n",
    "        RNAi_size_assignments[pad] = z\n",
    "        \n",
    "RNAi_name_array = np.array(RNAi_name_array)"
   ]
  },
  {
   "cell_type": "code",
   "execution_count": 626,
   "id": "0490078a",
   "metadata": {},
   "outputs": [],
   "source": [
    "outlier_ref = [ 1,  8,  9, 10, 16, 17, 19, 20, 26]\n",
    "inlier_ref = [ 0,  2,  3,  4,  5,  6,  7, 11, 12, 13, 14, 15, 16, 18, 21, 22, 23, 24, 25, 27, 28, 29]"
   ]
  },
  {
   "cell_type": "code",
   "execution_count": 627,
   "id": "6a0d78ec",
   "metadata": {},
   "outputs": [],
   "source": [
    "Homeotic = pd.read_csv('Undefined_trans.csv')\n",
    "Fates = pd.read_csv('Fate_trans.csv')\n",
    "\n",
    "qf = pd.read_csv('Undefined_trans.csv', header=None)"
   ]
  },
  {
   "cell_type": "code",
   "execution_count": 628,
   "id": "74b797c1",
   "metadata": {},
   "outputs": [
    {
     "data": {
      "text/plain": [
       "nan"
      ]
     },
     "execution_count": 628,
     "metadata": {},
     "output_type": "execute_result"
    }
   ],
   "source": [
    "useit = list(qf.iloc[0])[0]\n",
    "useit"
   ]
  },
  {
   "cell_type": "code",
   "execution_count": 629,
   "id": "8bdbce60",
   "metadata": {},
   "outputs": [],
   "source": [
    "qf = pd.read_csv('Fate_trans.csv', header=None)\n",
    "qf = qf.fillna('0')\n",
    "Fate_transforms = pd.DataFrame(qf).to_numpy()"
   ]
  },
  {
   "cell_type": "code",
   "execution_count": 630,
   "id": "0a6d41d6",
   "metadata": {},
   "outputs": [],
   "source": [
    "useit = Fate_transforms[1,1]"
   ]
  },
  {
   "cell_type": "code",
   "execution_count": 669,
   "id": "a61f9433",
   "metadata": {},
   "outputs": [
    {
     "data": {
      "text/plain": [
       "array(['GENE', 'APX-1', 'ATX-2', 'C49H3.8', 'CAMT-1', 'CDC-25.1',\n",
       "       'CDC-37', 'CEH-24', 'CHAF-2', 'CHK-1', 'CLS-2', 'CPL-1', 'CSN-4',\n",
       "       'CUL-1', 'CUL-2', 'CUL-3', 'DIV-1', 'DLC-1', 'DLI-1', 'DRH-3',\n",
       "       'F23F1.5', 'F35F11.1', 'F44B9.8', 'GEI-17', 'GLD-2', 'GLP-1',\n",
       "       'GPB-1', 'GSK-3', 'HDA-1', 'HMP-2', 'LAG-1', 'LET-502', 'LIN-23',\n",
       "       'MBK-2', 'MEI-1', 'MEX-3', 'MEX-5', 'MOM-2', 'MOM-5', 'NMY-2',\n",
       "       'NPP-4', 'NUD-1', 'OMA-1/2', 'PAD-1', 'PAR-2', 'PAR-3', 'PAR-6',\n",
       "       'PIE-1', 'PKC-3', 'POP-1', 'POS-1', 'PPFR-4', 'PUF-3', 'RAB-5',\n",
       "       'RAB-7', 'RAD-51', 'RAN-4', 'RBA-1', 'RFC-3', 'RGA-3', 'RUVB-1',\n",
       "       'SEL-8', 'SKN-1', 'SKR-1/2', 'SRC-1', 'SUF-1', 'T11G6.8',\n",
       "       'TAG-256', 'TAT-5', 'TSR-1', 'UBA-1', 'UBC-12', 'VPS-4', 'WWP-1',\n",
       "       'Y53F4B.22', 'ZYG-11', 'ZYG-12'], dtype='<U9')"
      ]
     },
     "execution_count": 669,
     "metadata": {},
     "output_type": "execute_result"
    }
   ],
   "source": [
    "Fate_transforms_gene_index = Fate_transforms[:,0].tolist()\n",
    "Fate_transforms_gene_index = np.array([each_string.upper() for each_string in Fate_transforms_gene_index])\n",
    "Fate_transforms_gene_index"
   ]
  },
  {
   "cell_type": "code",
   "execution_count": 670,
   "id": "af2ef549",
   "metadata": {},
   "outputs": [
    {
     "data": {
      "text/plain": [
       "array([['cul-1', '0', '0', '0', '0', '0', 'ABal', '0', '0', 'ABara', '0',\n",
       "        '0', '0', '0', '0', '0', '0', '0', '0', '0', 'EMS', '0', 'EMS',\n",
       "        '0', '0', 'P3']], dtype=object)"
      ]
     },
     "execution_count": 670,
     "metadata": {},
     "output_type": "execute_result"
    }
   ],
   "source": [
    "protein_tag = 'CUL-1'\n",
    "Fate_transforms[np.where(Fate_transforms_gene_index== protein_tag)[0]]"
   ]
  },
  {
   "cell_type": "code",
   "execution_count": 671,
   "id": "a3def699",
   "metadata": {},
   "outputs": [],
   "source": [
    "Departing_cells = Fate_transforms[0]"
   ]
  },
  {
   "cell_type": "code",
   "execution_count": 672,
   "id": "afbf972a",
   "metadata": {},
   "outputs": [],
   "source": [
    "Destination_Fate = Fate_transforms[np.where(Fate_transforms_gene_index== protein_tag)[0]]"
   ]
  },
  {
   "cell_type": "code",
   "execution_count": 673,
   "id": "2b3f00d3",
   "metadata": {},
   "outputs": [],
   "source": [
    "cell_references_of_interest = np.where(Destination_Fate > '0')[1][1:]"
   ]
  },
  {
   "cell_type": "code",
   "execution_count": 674,
   "id": "75013cbc",
   "metadata": {},
   "outputs": [],
   "source": [
    "Departing_cells = Departing_cells[cell_references_of_interest]"
   ]
  },
  {
   "cell_type": "code",
   "execution_count": 675,
   "id": "c360a2ee",
   "metadata": {},
   "outputs": [],
   "source": [
    "Destination_Fate_cells = Destination_Fate[0][cell_references_of_interest]"
   ]
  },
  {
   "cell_type": "code",
   "execution_count": 676,
   "id": "ed4d70b1",
   "metadata": {},
   "outputs": [
    {
     "data": {
      "text/plain": [
       "(array(['ABar', 'ABala', 'MS', 'C', 'P4'], dtype=object),\n",
       " array(['ABal', 'ABara', 'EMS', 'EMS', 'P3'], dtype=object))"
      ]
     },
     "execution_count": 676,
     "metadata": {},
     "output_type": "execute_result"
    }
   ],
   "source": [
    "Departing_cells,Destination_Fate_cells"
   ]
  },
  {
   "cell_type": "code",
   "execution_count": 677,
   "id": "ccf13733",
   "metadata": {},
   "outputs": [
    {
     "data": {
      "text/plain": [
       "('MS', 'EMS')"
      ]
     },
     "execution_count": 677,
     "metadata": {},
     "output_type": "execute_result"
    }
   ],
   "source": [
    "picked_change = 2\n",
    "Departing_cells[picked_change],Destination_Fate_cells[picked_change]"
   ]
  },
  {
   "cell_type": "code",
   "execution_count": 678,
   "id": "e59d1457",
   "metadata": {},
   "outputs": [],
   "source": [
    "inliers = np.array(inlier_ref)[sorted(random.sample(range(0, len(inlier_ref)), len(embryos_of_interest)))].tolist()\n",
    "outliers = np.array(outlier_ref)[sorted(random.sample(range(0, len(outlier_ref)), min(len(outlier_ref),len(embryos_of_interest))))].tolist()\n",
    "embryos_of_interest = (np.where(RNAi_name_array == protein_tag)[0]+30).tolist()"
   ]
  },
  {
   "cell_type": "code",
   "execution_count": 687,
   "id": "79a2125f",
   "metadata": {},
   "outputs": [
    {
     "data": {
      "text/plain": [
       "([10, 20, 29, 38, 48],\n",
       " [2, 3, 4, 6, 16, 18, 21, 22, 27, 28],\n",
       " [1, 8, 9, 10, 16, 17, 19, 20, 26],\n",
       " [268, 269, 270, 271, 272, 273, 274, 275, 276, 277])"
      ]
     },
     "execution_count": 687,
     "metadata": {},
     "output_type": "execute_result"
    }
   ],
   "source": [
    "#grid_dims = [len(inliers),len(inliers),len(outliers),len(outliers),len(embryos_of_interest),len(embryos_of_interest)]\n",
    "grid_dims = [len(inliers),2*len(inliers),2*len(inliers)+len(outliers),2*len(inliers)+2*len(outliers),2*len(inliers)+2*len(outliers)+len(embryos_of_interest)]\n",
    "grid_dims,inliers,outliers,embryos_of_interest"
   ]
  },
  {
   "cell_type": "code",
   "execution_count": 688,
   "id": "3dbeb294",
   "metadata": {},
   "outputs": [
    {
     "data": {
      "text/plain": [
       "58"
      ]
     },
     "execution_count": 688,
     "metadata": {},
     "output_type": "execute_result"
    }
   ],
   "source": [
    "embryonic_parser = [inliers,outliers,embryos_of_interest]\n",
    "altered_embryo_dict = []\n",
    "for n in embryonic_parser:\n",
    "    for m in n:\n",
    "        altered_embryo_dict.append(node_comparison_trimmer(fulldictset[m],Departing_cells[picked_change]))\n",
    "    for m in n:\n",
    "        altered_embryo_dict.append(node_comparison_trimmer(fulldictset[m],Destination_Fate_cells[picked_change]))"
   ]
  },
  {
   "cell_type": "code",
   "execution_count": 668,
   "id": "55df8cfe",
   "metadata": {},
   "outputs": [
    {
     "data": {
      "image/png": "[encoded data removed]",
      "text/plain": [
       "<Figure size 2520x1800 with 2 Axes>"
      ]
     },
     "metadata": {
      "needs_background": "light"
     },
     "output_type": "display_data"
    }
   ],
   "source": [
    "b_mat = []\n",
    "for a in altered_embryo_dict:\n",
    "    b_row = []\n",
    "    for b in altered_embryo_dict:\n",
    "        b_row.append(branch_distance(a,b))\n",
    "    b_mat.append(b_row)\n",
    "b_mat = np.mat(b_mat)\n",
    "plot_2_examples(['hot_r'],np.mat(b_mat))"
   ]
  },
  {
   "cell_type": "code",
   "execution_count": 689,
   "id": "28ad2b00",
   "metadata": {},
   "outputs": [],
   "source": [
    "def self_comp(imp_mat):\n",
    "    imp_mat = np.mat(imp_mat)\n",
    "    imp_mat = np.tril(np.array(imp_mat)).flatten()\n",
    "    imp_mat = imp_mat[np.where(imp_mat != 0.0)]\n",
    "    return ('mu',np.mean(imp_mat),'var',np.var(imp_mat))"
   ]
  },
  {
   "cell_type": "code",
   "execution_count": 690,
   "id": "7d111231",
   "metadata": {},
   "outputs": [],
   "source": [
    "def out_comp(imp_mat):\n",
    "    imp_mat = np.mat(imp_mat)\n",
    "    sample_size = int((min(imp_mat.shape) ** 2 - min(imp_mat.shape)) / 2)\n",
    "    samples = np.random.choice(imp_mat.flatten().tolist()[0], sample_size)\n",
    "    return ('mu',np.mean(samples),'var',np.var(samples))"
   ]
  },
  {
   "cell_type": "code",
   "execution_count": null,
   "id": "9ae22375",
   "metadata": {},
   "outputs": [],
   "source": []
  },
  {
   "cell_type": "code",
   "execution_count": 445,
   "id": "40fbca8a",
   "metadata": {},
   "outputs": [
    {
     "data": {
      "text/plain": [
       "\"b_mat = []\\nfor a in inliers:\\n    b_row = []\\n    for b in inliers:\\n        b_row.append(branch_distance(node_comparison_trimmer(fulldictset[a],'ABal'),node_comparison_trimmer(fulldictset[b],'ABal')))\\n    b_mat.append(b_row)\\nb_mat = np.mat(b_mat)\\nplot_2_examples(['hot_r'],np.mat(b_mat))\""
      ]
     },
     "execution_count": 445,
     "metadata": {},
     "output_type": "execute_result"
    }
   ],
   "source": [
    "'''b_mat = []\n",
    "for a in inliers:\n",
    "    b_row = []\n",
    "    for b in inliers:\n",
    "        b_row.append(branch_distance(node_comparison_trimmer(fulldictset[a],'ABal'),node_comparison_trimmer(fulldictset[b],'ABal')))\n",
    "    b_mat.append(b_row)\n",
    "b_mat = np.mat(b_mat)\n",
    "plot_2_examples(['hot_r'],np.mat(b_mat))'''"
   ]
  },
  {
   "cell_type": "code",
   "execution_count": 446,
   "id": "8d2c2416",
   "metadata": {},
   "outputs": [
    {
     "data": {
      "text/plain": [
       "'demo = np.tril(np.array(b_mat)).flatten()\\nb_mat = demo[np.where(demo != 0.0)]'"
      ]
     },
     "execution_count": 446,
     "metadata": {},
     "output_type": "execute_result"
    }
   ],
   "source": [
    "'''demo = np.tril(np.array(b_mat)).flatten()\n",
    "b_mat = demo[np.where(demo != 0.0)]'''"
   ]
  },
  {
   "cell_type": "code",
   "execution_count": null,
   "id": "835eda1e",
   "metadata": {},
   "outputs": [],
   "source": []
  },
  {
   "cell_type": "code",
   "execution_count": null,
   "id": "0c1012cc",
   "metadata": {},
   "outputs": [],
   "source": []
  },
  {
   "cell_type": "code",
   "execution_count": null,
   "id": "80efbc66",
   "metadata": {},
   "outputs": [],
   "source": []
  },
  {
   "cell_type": "code",
   "execution_count": null,
   "id": "9db0d985",
   "metadata": {},
   "outputs": [],
   "source": []
  },
  {
   "cell_type": "code",
   "execution_count": null,
   "id": "18a562a3",
   "metadata": {},
   "outputs": [],
   "source": []
  },
  {
   "cell_type": "code",
   "execution_count": null,
   "id": "77d3cde4",
   "metadata": {},
   "outputs": [],
   "source": []
  },
  {
   "cell_type": "code",
   "execution_count": null,
   "id": "ad2cdcc2",
   "metadata": {},
   "outputs": [],
   "source": []
  },
  {
   "cell_type": "code",
   "execution_count": null,
   "id": "a72e7f82",
   "metadata": {},
   "outputs": [],
   "source": []
  },
  {
   "cell_type": "code",
   "execution_count": null,
   "id": "1bff42cf",
   "metadata": {},
   "outputs": [],
   "source": []
  },
  {
   "cell_type": "code",
   "execution_count": 694,
   "id": "c5695cb2",
   "metadata": {},
   "outputs": [
    {
     "data": {
      "text/plain": [
       "\"\\nfor n in Fate_transforms[0][2:]:\\n    print(n)\\n    b_mat = []\\n    for a in inliers:\\n        b_row = []\\n        for b in inliers:\\n            b_row.append(branch_distance(node_comparison_trimmer(fulldictset[a],n),node_comparison_trimmer(fulldictset[b],n)))\\n        b_mat.append(b_row)\\n    b_mat = np.mat(b_mat)\\n    #plot_2_examples(['hot_r'],np.mat(b_mat))\\n    demo = np.tril(np.array(b_mat)).flatten()\\n    b_mat = demo[np.where(demo != 0.0)]\\n    trip = b_mat\\n    #if len(trip) == 0: \\n    try: KDE(b_mat)\\n    except: pass\\n    #continue \\n    \\n    x_d = np.linspace(min(trip), max(trip), 2000)\\n    density = sum(norm(xi,.85).pdf(x_d) for xi in trip) * 5\\n    plt.fill_between(x_d, density, alpha=0.5)\\n    plt.plot(trip, np.full_like(trip, -0.1), '|k', markeredgewidth=1)\\n    plt.axis([min(trip), max(trip), -0.5, 75]);\\n    #plt.clf\\n\""
      ]
     },
     "execution_count": 694,
     "metadata": {},
     "output_type": "execute_result"
    }
   ],
   "source": [
    "'''\n",
    "for n in Fate_transforms[0][2:]:\n",
    "    print(n)\n",
    "    b_mat = []\n",
    "    for a in inliers:\n",
    "        b_row = []\n",
    "        for b in inliers:\n",
    "            b_row.append(branch_distance(node_comparison_trimmer(fulldictset[a],n),node_comparison_trimmer(fulldictset[b],n)))\n",
    "        b_mat.append(b_row)\n",
    "    b_mat = np.mat(b_mat)\n",
    "    #plot_2_examples(['hot_r'],np.mat(b_mat))\n",
    "    demo = np.tril(np.array(b_mat)).flatten()\n",
    "    b_mat = demo[np.where(demo != 0.0)]\n",
    "    trip = b_mat\n",
    "    #if len(trip) == 0: \n",
    "    try: KDE(b_mat)\n",
    "    except: pass\n",
    "    #continue \n",
    "    \n",
    "    x_d = np.linspace(min(trip), max(trip), 2000)\n",
    "    density = sum(norm(xi,.85).pdf(x_d) for xi in trip) * 5\n",
    "    plt.fill_between(x_d, density, alpha=0.5)\n",
    "    plt.plot(trip, np.full_like(trip, -0.1), '|k', markeredgewidth=1)\n",
    "    plt.axis([min(trip), max(trip), -0.5, 75]);\n",
    "    #plt.clf\n",
    "'''"
   ]
  },
  {
   "cell_type": "code",
   "execution_count": 703,
   "id": "2fa12baa",
   "metadata": {
    "scrolled": false
   },
   "outputs": [],
   "source": [
    "def KDE(imp):\n",
    "    trip = imp\n",
    "    x_d = np.linspace(min(trip), max(trip), 2000)\n",
    "    density = sum(norm(xi,1).pdf(x_d) for xi in trip) * 5\n",
    "    plt.fill_between(x_d, density, alpha=0.5)\n",
    "    plt.plot(trip, np.full_like(trip, -0.1), '|k', markeredgewidth=1)\n",
    "    plt.axis([min(trip), max(trip), -0.5, 30]);\n",
    "    plt.show()"
   ]
  },
  {
   "cell_type": "code",
   "execution_count": null,
   "id": "e4c3a61a",
   "metadata": {},
   "outputs": [],
   "source": []
  },
  {
   "cell_type": "code",
   "execution_count": null,
   "id": "b7d7ae3c",
   "metadata": {},
   "outputs": [],
   "source": []
  },
  {
   "cell_type": "code",
   "execution_count": null,
   "id": "40a8751b",
   "metadata": {},
   "outputs": [],
   "source": []
  }
 ],
 "metadata": {
  "kernelspec": {
   "display_name": "Python 3 (ipykernel)",
   "language": "python",
   "name": "python3"
  },
  "language_info": {
   "codemirror_mode": {
    "name": "ipython",
    "version": 3
   },
   "file_extension": ".py",
   "mimetype": "text/x-python",
   "name": "python",
   "nbconvert_exporter": "python",
   "pygments_lexer": "ipython3",
   "version": "3.9.5"
  }
 },
 "nbformat": 4,
 "nbformat_minor": 5
}
